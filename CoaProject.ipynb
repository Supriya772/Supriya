{
  "nbformat": 4,
  "nbformat_minor": 0,
  "metadata": {
    "colab": {
      "provenance": [],
      "authorship_tag": "ABX9TyMjQ8SyYCtLC+7htqVXjR1z",
      "include_colab_link": true
    },
    "kernelspec": {
      "name": "python3",
      "display_name": "Python 3"
    },
    "language_info": {
      "name": "python"
    }
  },
  "cells": [
    {
      "cell_type": "markdown",
      "metadata": {
        "id": "view-in-github",
        "colab_type": "text"
      },
      "source": [
        "<a href=\"https://colab.research.google.com/github/Supriya772/Supriya/blob/main/CoaProject.ipynb\" target=\"_parent\"><img src=\"https://colab.research.google.com/assets/colab-badge.svg\" alt=\"Open In Colab\"/></a>"
      ]
    },
    {
      "cell_type": "code",
      "source": [
        "pip install opencv-python SimpleITK\n"
      ],
      "metadata": {
        "colab": {
          "base_uri": "https://localhost:8080/"
        },
        "id": "wPRLDzTNnyOO",
        "outputId": "4d55e5e2-1a02-494a-fcec-5df7203b8ef1"
      },
      "execution_count": null,
      "outputs": [
        {
          "output_type": "stream",
          "name": "stdout",
          "text": [
            "Requirement already satisfied: opencv-python in /usr/local/lib/python3.10/dist-packages (4.8.0.76)\n",
            "Collecting SimpleITK\n",
            "  Downloading SimpleITK-2.3.1-cp310-cp310-manylinux_2_17_x86_64.manylinux2014_x86_64.whl (52.7 MB)\n",
            "\u001b[2K     \u001b[90m━━━━━━━━━━━━━━━━━━━━━━━━━━━━━━━━━━━━━━━━\u001b[0m \u001b[32m52.7/52.7 MB\u001b[0m \u001b[31m17.4 MB/s\u001b[0m eta \u001b[36m0:00:00\u001b[0m\n",
            "\u001b[?25hRequirement already satisfied: numpy>=1.21.2 in /usr/local/lib/python3.10/dist-packages (from opencv-python) (1.23.5)\n",
            "Installing collected packages: SimpleITK\n",
            "Successfully installed SimpleITK-2.3.1\n"
          ]
        }
      ]
    },
    {
      "cell_type": "code",
      "source": [
        "import cv2\n",
        "import numpy as np\n",
        "import multiprocessing\n",
        "import time\n",
        "\n",
        "def compute_histogram(image, start, end, bins):\n",
        "    histogram, _ = np.histogram(image[start:end].ravel(), bins=bins, range=[0, 256])\n",
        "    return histogram\n",
        "\n",
        "def otsu_threshold(image):\n",
        "    flattened_image = image.ravel()\n",
        "    bins = 256\n",
        "    half_height = image.shape[0] // 2\n",
        "\n",
        "    start_time = time.time()\n",
        "\n",
        "    with multiprocessing.Pool(processes=2) as pool:\n",
        "        histograms = pool.starmap(compute_histogram, [(flattened_image, 0, half_height * image.shape[1], bins),\n",
        "                                                      (flattened_image, half_height * image.shape[1], None, bins)])\n",
        "\n",
        "    total_histogram = np.sum(histograms, axis=0)\n",
        "    probabilities = total_histogram / np.sum(total_histogram)\n",
        "    cumulative_distribution = np.cumsum(probabilities)\n",
        "    thresholds = np.arange(0, 256)\n",
        "    variance_between_classes = (cumulative_distribution * (1.0 - cumulative_distribution))**2 / probabilities\n",
        "    optimal_threshold = np.argmax(variance_between_classes)\n",
        "\n",
        "    end_time = time.time()\n",
        "\n",
        "    _, segmented_image = cv2.threshold(image, optimal_threshold, 255, cv2.THRESH_BINARY)\n",
        "\n",
        "    return segmented_image, end_time - start_time\n",
        "\n",
        "if __name__ == \"__main__\":\n",
        "    # Read the image\n",
        "    image_path = \"/content/brain.jpeg\"\n",
        "    original_image = cv2.imread(image_path, cv2.IMREAD_GRAYSCALE)\n",
        "\n",
        "    # Serial segmentation\n",
        "    serial_start_time = time.time()\n",
        "    serial_result, serial_time = otsu_threshold(original_image)\n",
        "    serial_end_time = time.time()\n",
        "\n",
        "    cv2.imwrite(\"serial_segmentation_result.jpg\", serial_result)\n",
        "\n",
        "    # Parallel segmentation\n",
        "    parallel_start_time = time.time()\n",
        "    parallel_result, parallel_time = otsu_threshold(original_image)\n",
        "    parallel_end_time = time.time()\n",
        "\n",
        "    cv2.imwrite(\"parallel_segmentation_result.jpg\", parallel_result)\n",
        "\n",
        "    # Calculate speedup\n",
        "    speedup_result = serial_time / parallel_time\n",
        "\n",
        "    print(f\"Serial segmentation time: {serial_time} seconds\")\n",
        "    print(f\"Parallel segmentation time: {parallel_time} seconds\")\n",
        "    print(f\"Speedup: {speedup_result:.2f}\")\n"
      ],
      "metadata": {
        "colab": {
          "base_uri": "https://localhost:8080/"
        },
        "id": "LgDrQSQDu9ga",
        "outputId": "9f719371-2197-4f08-8a47-5bd99b2b1d66"
      },
      "execution_count": null,
      "outputs": [
        {
          "output_type": "stream",
          "name": "stdout",
          "text": [
            "Serial segmentation time: 0.06487274169921875 seconds\n",
            "Parallel segmentation time: 0.05656242370605469 seconds\n",
            "Speedup: 1.15\n"
          ]
        }
      ]
    }
  ]
}